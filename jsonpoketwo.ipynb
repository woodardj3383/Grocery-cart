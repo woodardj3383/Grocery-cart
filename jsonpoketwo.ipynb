{
 "cells": [
  {
   "cell_type": "code",
   "execution_count": 3,
   "metadata": {},
   "outputs": [],
   "source": [
    "import requests\n",
    "import json\n"
   ]
  },
  {
   "cell_type": "code",
   "execution_count": 22,
   "metadata": {},
   "outputs": [],
   "source": [
    "import pokebase as pb"
   ]
  },
  {
   "cell_type": "code",
   "execution_count": 3,
   "metadata": {},
   "outputs": [
    {
     "data": {
      "text/plain": [
       "<Response [200]>"
      ]
     },
     "execution_count": 3,
     "metadata": {},
     "output_type": "execute_result"
    }
   ],
   "source": [
    "requests.get('https://pokeapi.co/api/v2/')"
   ]
  },
  {
   "cell_type": "code",
   "execution_count": 41,
   "metadata": {},
   "outputs": [
    {
     "data": {
      "text/plain": [
       "<Response [200]>"
      ]
     },
     "execution_count": 41,
     "metadata": {},
     "output_type": "execute_result"
    }
   ],
   "source": [
    "requests.get('https://pokeapi.co/api/v2/ability')"
   ]
  },
  {
   "cell_type": "code",
   "execution_count": 43,
   "metadata": {},
   "outputs": [],
   "source": [
    "p2=requests.get('https://pokeapi.co/api/v2/ability')"
   ]
  },
  {
   "cell_type": "code",
   "execution_count": 46,
   "metadata": {},
   "outputs": [],
   "source": [
    "data = p2.json()"
   ]
  },
  {
   "cell_type": "code",
   "execution_count": 47,
   "metadata": {},
   "outputs": [
    {
     "data": {
      "text/plain": [
       "{'count': 293,\n",
       " 'next': 'https://pokeapi.co/api/v2/ability?offset=20&limit=20',\n",
       " 'previous': None,\n",
       " 'results': [{'name': 'stench', 'url': 'https://pokeapi.co/api/v2/ability/1/'},\n",
       "  {'name': 'drizzle', 'url': 'https://pokeapi.co/api/v2/ability/2/'},\n",
       "  {'name': 'speed-boost', 'url': 'https://pokeapi.co/api/v2/ability/3/'},\n",
       "  {'name': 'battle-armor', 'url': 'https://pokeapi.co/api/v2/ability/4/'},\n",
       "  {'name': 'sturdy', 'url': 'https://pokeapi.co/api/v2/ability/5/'},\n",
       "  {'name': 'damp', 'url': 'https://pokeapi.co/api/v2/ability/6/'},\n",
       "  {'name': 'limber', 'url': 'https://pokeapi.co/api/v2/ability/7/'},\n",
       "  {'name': 'sand-veil', 'url': 'https://pokeapi.co/api/v2/ability/8/'},\n",
       "  {'name': 'static', 'url': 'https://pokeapi.co/api/v2/ability/9/'},\n",
       "  {'name': 'volt-absorb', 'url': 'https://pokeapi.co/api/v2/ability/10/'},\n",
       "  {'name': 'water-absorb', 'url': 'https://pokeapi.co/api/v2/ability/11/'},\n",
       "  {'name': 'oblivious', 'url': 'https://pokeapi.co/api/v2/ability/12/'},\n",
       "  {'name': 'cloud-nine', 'url': 'https://pokeapi.co/api/v2/ability/13/'},\n",
       "  {'name': 'compound-eyes', 'url': 'https://pokeapi.co/api/v2/ability/14/'},\n",
       "  {'name': 'insomnia', 'url': 'https://pokeapi.co/api/v2/ability/15/'},\n",
       "  {'name': 'color-change', 'url': 'https://pokeapi.co/api/v2/ability/16/'},\n",
       "  {'name': 'immunity', 'url': 'https://pokeapi.co/api/v2/ability/17/'},\n",
       "  {'name': 'flash-fire', 'url': 'https://pokeapi.co/api/v2/ability/18/'},\n",
       "  {'name': 'shield-dust', 'url': 'https://pokeapi.co/api/v2/ability/19/'},\n",
       "  {'name': 'own-tempo', 'url': 'https://pokeapi.co/api/v2/ability/20/'}]}"
      ]
     },
     "execution_count": 47,
     "metadata": {},
     "output_type": "execute_result"
    }
   ],
   "source": [
    "data"
   ]
  },
  {
   "cell_type": "code",
   "execution_count": 49,
   "metadata": {},
   "outputs": [
    {
     "data": {
      "text/plain": [
       "<Response [200]>"
      ]
     },
     "execution_count": 49,
     "metadata": {},
     "output_type": "execute_result"
    }
   ],
   "source": [
    "requests.get('https://pokeapi.co/api/v2/pokemon')"
   ]
  },
  {
   "cell_type": "code",
   "execution_count": 50,
   "metadata": {},
   "outputs": [],
   "source": [
    "p3 = requests.get('https://pokeapi.co/api/v2/pokemon')"
   ]
  },
  {
   "cell_type": "code",
   "execution_count": 4,
   "metadata": {},
   "outputs": [],
   "source": [
    "chesto = pb.APIResource('berry', 'chesto')"
   ]
  },
  {
   "cell_type": "code",
   "execution_count": 5,
   "metadata": {},
   "outputs": [
    {
     "data": {
      "text/plain": [
       "'water'"
      ]
     },
     "execution_count": 5,
     "metadata": {},
     "output_type": "execute_result"
    }
   ],
   "source": [
    "chesto.natural_gift_type.name"
   ]
  },
  {
   "cell_type": "code",
   "execution_count": 2,
   "metadata": {},
   "outputs": [],
   "source": [
    "#p1 = pb.SpriteResource('pokemon','1')\n",
    "#p1.url"
   ]
  },
  {
   "cell_type": "code",
   "execution_count": 6,
   "metadata": {},
   "outputs": [],
   "source": [
    "from pokebase import cache"
   ]
  },
  {
   "cell_type": "code",
   "execution_count": 7,
   "metadata": {},
   "outputs": [
    {
     "data": {
      "text/plain": [
       "'/Users/joshuawoodard/.cache/pokebase/api.cache'"
      ]
     },
     "execution_count": 7,
     "metadata": {},
     "output_type": "execute_result"
    }
   ],
   "source": [
    "cache.API_CACHE"
   ]
  },
  {
   "cell_type": "code",
   "execution_count": 8,
   "metadata": {},
   "outputs": [
    {
     "data": {
      "text/plain": [
       "pokebase.interface.APIResource"
      ]
     },
     "execution_count": 8,
     "metadata": {},
     "output_type": "execute_result"
    }
   ],
   "source": [
    "pb.APIResource"
   ]
  },
  {
   "cell_type": "code",
   "execution_count": 51,
   "metadata": {},
   "outputs": [
    {
     "data": {
      "text/plain": [
       "{'count': 1050,\n",
       " 'next': 'https://pokeapi.co/api/v2/pokemon?offset=20&limit=20',\n",
       " 'previous': None,\n",
       " 'results': [{'name': 'bulbasaur',\n",
       "   'url': 'https://pokeapi.co/api/v2/pokemon/1/'},\n",
       "  {'name': 'ivysaur', 'url': 'https://pokeapi.co/api/v2/pokemon/2/'},\n",
       "  {'name': 'venusaur', 'url': 'https://pokeapi.co/api/v2/pokemon/3/'},\n",
       "  {'name': 'charmander', 'url': 'https://pokeapi.co/api/v2/pokemon/4/'},\n",
       "  {'name': 'charmeleon', 'url': 'https://pokeapi.co/api/v2/pokemon/5/'},\n",
       "  {'name': 'charizard', 'url': 'https://pokeapi.co/api/v2/pokemon/6/'},\n",
       "  {'name': 'squirtle', 'url': 'https://pokeapi.co/api/v2/pokemon/7/'},\n",
       "  {'name': 'wartortle', 'url': 'https://pokeapi.co/api/v2/pokemon/8/'},\n",
       "  {'name': 'blastoise', 'url': 'https://pokeapi.co/api/v2/pokemon/9/'},\n",
       "  {'name': 'caterpie', 'url': 'https://pokeapi.co/api/v2/pokemon/10/'},\n",
       "  {'name': 'metapod', 'url': 'https://pokeapi.co/api/v2/pokemon/11/'},\n",
       "  {'name': 'butterfree', 'url': 'https://pokeapi.co/api/v2/pokemon/12/'},\n",
       "  {'name': 'weedle', 'url': 'https://pokeapi.co/api/v2/pokemon/13/'},\n",
       "  {'name': 'kakuna', 'url': 'https://pokeapi.co/api/v2/pokemon/14/'},\n",
       "  {'name': 'beedrill', 'url': 'https://pokeapi.co/api/v2/pokemon/15/'},\n",
       "  {'name': 'pidgey', 'url': 'https://pokeapi.co/api/v2/pokemon/16/'},\n",
       "  {'name': 'pidgeotto', 'url': 'https://pokeapi.co/api/v2/pokemon/17/'},\n",
       "  {'name': 'pidgeot', 'url': 'https://pokeapi.co/api/v2/pokemon/18/'},\n",
       "  {'name': 'rattata', 'url': 'https://pokeapi.co/api/v2/pokemon/19/'},\n",
       "  {'name': 'raticate', 'url': 'https://pokeapi.co/api/v2/pokemon/20/'}]}"
      ]
     },
     "execution_count": 51,
     "metadata": {},
     "output_type": "execute_result"
    }
   ],
   "source": [
    "p3.json()"
   ]
  },
  {
   "cell_type": "markdown",
   "metadata": {},
   "source": [
    "### Derek's code"
   ]
  },
  {
   "cell_type": "code",
   "execution_count": null,
   "metadata": {},
   "outputs": [],
   "source": [
    "# POKEMON API\n",
    "# Make 20 Pokemon\n",
    "\n",
    "# Retrieve the pokemon's name, abilities, type, weight\n",
    "\n",
    "# Whenever you need to add a POKEMON, you need to construct your pokemon through the API\n",
    "\n",
    "# function/method - connect to POKEMON API and programmatically fill in all the data for POKEMON\n",
    "\n",
    "# Create a dictionary\n",
    "# {\n",
    "#     'Fire': {\n",
    "#         'charizard': {\n",
    "#             'abilities': [],\n",
    "#             'weight': ,\n",
    "#         },\n",
    "#         'pokemon': {\n",
    "#             'abilities': [],\n",
    "#             'weight': ,\n",
    "#         }\n",
    "#     },\n",
    "#     'Flying':,\n",
    "#     'Water':\n",
    "# }\n",
    "\n",
    "import requests, pprint\n",
    "\n",
    "pp = pprint.PrettyPrinter(indent=4)\n",
    "\n",
    "class Character:\n",
    "    _all = []\n",
    "    \n",
    "    def __init__(self):\n",
    "        self.name = None\n",
    "        self.abilities = None\n",
    "        self.type = None\n",
    "        self.weight = None\n",
    "        self._all.append(self)\n",
    "        \n",
    "    def from_dict(self, a_dict):\n",
    "        for field in ['name', 'abilities', 'type', 'weight']:\n",
    "            if field in a_dict:\n",
    "                setattr(self, field, a_dict[field])\n",
    "            \n",
    "    def get_characters(self):\n",
    "        return [i.name for i in self._all]\n",
    "            \n",
    "    def __repr__(self):\n",
    "        return f\"{self.name} -> {self.type}\"\n",
    "\n",
    "class Pokedex:\n",
    "    _list = []\n",
    "    api = 'https://pokeapi.co/api/v2/pokemon'\n",
    "    \n",
    "    @classmethod\n",
    "    def generate_character_from_api(self, character):\n",
    "        res = requests.get(f\"{self.api}/{character}\").json()\n",
    "        character_dict = {\n",
    "            'name': res['name'].title(),\n",
    "            'abilities': [i['ability']['name'] for i in res['abilities']],\n",
    "            'type': [i['type']['name'] for i in res['types']][0].title(),\n",
    "            'weight': res['weight']\n",
    "        }\n",
    "        c = Character()\n",
    "        c.from_dict(character_dict)\n",
    "        self._list.append(c)\n",
    "    \n",
    "    @classmethod\n",
    "    def sort_by_category(self):\n",
    "        category_dict = {}\n",
    "        for pokemon in self._list:\n",
    "            pokemon_dict = {}\n",
    "            if pokemon.type not in category_dict:\n",
    "                category_dict[pokemon.type] = {}\n",
    "            category_dict[pokemon.type].update({\n",
    "                pokemon.name.title(): {\n",
    "                    'abilities': pokemon.abilities,\n",
    "                    'weight': pokemon.weight\n",
    "                }\n",
    "            })\n",
    "        return category_dict\n",
    "    \n",
    "    @classmethod\n",
    "    def index(self):\n",
    "        return self._list\n",
    "\n",
    "pokemon_list = ['charizard', 'sandshrew', 'ho-oh', 'onix', 'carnivine', 'snover', 'ninetales', 'golbat', 'pikachu', 'hippopotas', 'lucario', 'charmander', 'charmeleon', 'squirtle', 'blastoise', 'kakuna', 'pidgeot', 'spearow', 'jigglypuff', 'mew', 'mewtwo']\n",
    "len(pokemon_list)\n",
    "\n",
    "for character in pokemon_list:\n",
    "    Pokedex.generate_character_from_api(character)\n",
    "\n",
    "pp.pprint(Pokedex.sort_by_category())"
   ]
  },
  {
   "cell_type": "code",
   "execution_count": null,
   "metadata": {},
   "outputs": [],
   "source": []
  },
  {
   "cell_type": "code",
   "execution_count": 13,
   "metadata": {},
   "outputs": [],
   "source": []
  },
  {
   "cell_type": "code",
   "execution_count": null,
   "metadata": {},
   "outputs": [],
   "source": []
  },
  {
   "cell_type": "code",
   "execution_count": null,
   "metadata": {},
   "outputs": [],
   "source": []
  }
 ],
 "metadata": {
  "kernelspec": {
   "display_name": "Python 3.8.3 64-bit",
   "language": "python",
   "name": "python38364bitad0e14dfb83548af8999f899c74b7739"
  },
  "language_info": {
   "codemirror_mode": {
    "name": "ipython",
    "version": 3
   },
   "file_extension": ".py",
   "mimetype": "text/x-python",
   "name": "python",
   "nbconvert_exporter": "python",
   "pygments_lexer": "ipython3",
   "version": "3.8.5"
  }
 },
 "nbformat": 4,
 "nbformat_minor": 4
}
